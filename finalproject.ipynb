{
  "nbformat": 4,
  "nbformat_minor": 0,
  "metadata": {
    "colab": {
      "provenance": [],
      "authorship_tag": "ABX9TyOevleEYLG6lO0mgp+0Vq/S",
      "include_colab_link": true
    },
    "kernelspec": {
      "name": "python3",
      "display_name": "Python 3"
    },
    "language_info": {
      "name": "python"
    }
  },
  "cells": [
    {
      "cell_type": "markdown",
      "metadata": {
        "id": "view-in-github",
        "colab_type": "text"
      },
      "source": [
        "<a href=\"https://colab.research.google.com/github/GJaySri/My-project/blob/main/finalproject.ipynb\" target=\"_parent\"><img src=\"https://colab.research.google.com/assets/colab-badge.svg\" alt=\"Open In Colab\"/></a>"
      ]
    },
    {
      "cell_type": "code",
      "execution_count": 1,
      "metadata": {
        "colab": {
          "base_uri": "https://localhost:8080/",
          "height": 447
        },
        "id": "Wx66tFAA-g0O",
        "outputId": "6ccb2c79-1b3d-4e46-9f19-be0d09ab2a3a"
      },
      "outputs": [
        {
          "output_type": "stream",
          "name": "stdout",
          "text": [
            "Collecting Pyspark\n",
            "  Downloading pyspark-3.4.1.tar.gz (310.8 MB)\n",
            "\u001b[2K     \u001b[90m━━━━━━━━━━━━━━━━━━━━━━━━━━━━━━━━━━━━━━━\u001b[0m \u001b[32m310.8/310.8 MB\u001b[0m \u001b[31m2.0 MB/s\u001b[0m eta \u001b[36m0:00:00\u001b[0m\n",
            "\u001b[?25h  Preparing metadata (setup.py) ... \u001b[?25l\u001b[?25hdone\n",
            "Requirement already satisfied: py4j==0.10.9.7 in /usr/local/lib/python3.10/dist-packages (from Pyspark) (0.10.9.7)\n",
            "Building wheels for collected packages: Pyspark\n",
            "  Building wheel for Pyspark (setup.py) ... \u001b[?25l\u001b[?25hdone\n",
            "  Created wheel for Pyspark: filename=pyspark-3.4.1-py2.py3-none-any.whl size=311285388 sha256=f1df50bcd0da94baeabfc185cf890d6e6241c67f05c9de55498fcfecd77dab86\n",
            "  Stored in directory: /root/.cache/pip/wheels/0d/77/a3/ff2f74cc9ab41f8f594dabf0579c2a7c6de920d584206e0834\n",
            "Successfully built Pyspark\n",
            "Installing collected packages: Pyspark\n",
            "Successfully installed Pyspark-3.4.1\n"
          ]
        },
        {
          "output_type": "execute_result",
          "data": {
            "text/plain": [
              "<pyspark.sql.session.SparkSession at 0x7a015eae0fa0>"
            ],
            "text/html": [
              "\n",
              "            <div>\n",
              "                <p><b>SparkSession - in-memory</b></p>\n",
              "                \n",
              "        <div>\n",
              "            <p><b>SparkContext</b></p>\n",
              "\n",
              "            <p><a href=\"http://d0ec94a579ab:4040\">Spark UI</a></p>\n",
              "\n",
              "            <dl>\n",
              "              <dt>Version</dt>\n",
              "                <dd><code>v3.4.1</code></dd>\n",
              "              <dt>Master</dt>\n",
              "                <dd><code>local[*]</code></dd>\n",
              "              <dt>AppName</dt>\n",
              "                <dd><code>pyspark-shell</code></dd>\n",
              "            </dl>\n",
              "        </div>\n",
              "        \n",
              "            </div>\n",
              "        "
            ]
          },
          "metadata": {},
          "execution_count": 1
        }
      ],
      "source": [
        "\n",
        "# install\n",
        "!pip install Pyspark\n",
        "\n",
        "# start spark session\n",
        "from pyspark.sql import SparkSession\n",
        "\n",
        "spark=SparkSession.builder.getOrCreate()\n",
        "spark\n",
        "\n",
        "\n"
      ]
    },
    {
      "cell_type": "code",
      "source": [
        "\n",
        "# read sklearn inbuilt data\n",
        "import pandas as pd\n",
        "import numpy as np\n",
        "from sklearn.datasets import load_wine\n",
        "wine = load_wine(as_frame=True)\n",
        "wine = wine.frame\n",
        "wine = spark.createDataFrame(wine)\n"
      ],
      "metadata": {
        "id": "gQfE1qfIAHGI"
      },
      "execution_count": 3,
      "outputs": []
    },
    {
      "cell_type": "code",
      "source": [
        "wine.show()\n"
      ],
      "metadata": {
        "colab": {
          "base_uri": "https://localhost:8080/"
        },
        "id": "u_yU0881AZmq",
        "outputId": "2d33ec87-d175-460b-8b68-fd452b13b022"
      },
      "execution_count": 4,
      "outputs": [
        {
          "output_type": "stream",
          "name": "stdout",
          "text": [
            "+-------+----------+----+-----------------+---------+-------------+----------+--------------------+---------------+---------------+----+----------------------------+-------+------+\n",
            "|alcohol|malic_acid| ash|alcalinity_of_ash|magnesium|total_phenols|flavanoids|nonflavanoid_phenols|proanthocyanins|color_intensity| hue|od280/od315_of_diluted_wines|proline|target|\n",
            "+-------+----------+----+-----------------+---------+-------------+----------+--------------------+---------------+---------------+----+----------------------------+-------+------+\n",
            "|  14.23|      1.71|2.43|             15.6|    127.0|          2.8|      3.06|                0.28|           2.29|           5.64|1.04|                        3.92| 1065.0|     0|\n",
            "|   13.2|      1.78|2.14|             11.2|    100.0|         2.65|      2.76|                0.26|           1.28|           4.38|1.05|                         3.4| 1050.0|     0|\n",
            "|  13.16|      2.36|2.67|             18.6|    101.0|          2.8|      3.24|                 0.3|           2.81|           5.68|1.03|                        3.17| 1185.0|     0|\n",
            "|  14.37|      1.95| 2.5|             16.8|    113.0|         3.85|      3.49|                0.24|           2.18|            7.8|0.86|                        3.45| 1480.0|     0|\n",
            "|  13.24|      2.59|2.87|             21.0|    118.0|          2.8|      2.69|                0.39|           1.82|           4.32|1.04|                        2.93|  735.0|     0|\n",
            "|   14.2|      1.76|2.45|             15.2|    112.0|         3.27|      3.39|                0.34|           1.97|           6.75|1.05|                        2.85| 1450.0|     0|\n",
            "|  14.39|      1.87|2.45|             14.6|     96.0|          2.5|      2.52|                 0.3|           1.98|           5.25|1.02|                        3.58| 1290.0|     0|\n",
            "|  14.06|      2.15|2.61|             17.6|    121.0|          2.6|      2.51|                0.31|           1.25|           5.05|1.06|                        3.58| 1295.0|     0|\n",
            "|  14.83|      1.64|2.17|             14.0|     97.0|          2.8|      2.98|                0.29|           1.98|            5.2|1.08|                        2.85| 1045.0|     0|\n",
            "|  13.86|      1.35|2.27|             16.0|     98.0|         2.98|      3.15|                0.22|           1.85|           7.22|1.01|                        3.55| 1045.0|     0|\n",
            "|   14.1|      2.16| 2.3|             18.0|    105.0|         2.95|      3.32|                0.22|           2.38|           5.75|1.25|                        3.17| 1510.0|     0|\n",
            "|  14.12|      1.48|2.32|             16.8|     95.0|          2.2|      2.43|                0.26|           1.57|            5.0|1.17|                        2.82| 1280.0|     0|\n",
            "|  13.75|      1.73|2.41|             16.0|     89.0|          2.6|      2.76|                0.29|           1.81|            5.6|1.15|                         2.9| 1320.0|     0|\n",
            "|  14.75|      1.73|2.39|             11.4|     91.0|          3.1|      3.69|                0.43|           2.81|            5.4|1.25|                        2.73| 1150.0|     0|\n",
            "|  14.38|      1.87|2.38|             12.0|    102.0|          3.3|      3.64|                0.29|           2.96|            7.5| 1.2|                         3.0| 1547.0|     0|\n",
            "|  13.63|      1.81| 2.7|             17.2|    112.0|         2.85|      2.91|                 0.3|           1.46|            7.3|1.28|                        2.88| 1310.0|     0|\n",
            "|   14.3|      1.92|2.72|             20.0|    120.0|          2.8|      3.14|                0.33|           1.97|            6.2|1.07|                        2.65| 1280.0|     0|\n",
            "|  13.83|      1.57|2.62|             20.0|    115.0|         2.95|       3.4|                 0.4|           1.72|            6.6|1.13|                        2.57| 1130.0|     0|\n",
            "|  14.19|      1.59|2.48|             16.5|    108.0|          3.3|      3.93|                0.32|           1.86|            8.7|1.23|                        2.82| 1680.0|     0|\n",
            "|  13.64|       3.1|2.56|             15.2|    116.0|          2.7|      3.03|                0.17|           1.66|            5.1|0.96|                        3.36|  845.0|     0|\n",
            "+-------+----------+----+-----------------+---------+-------------+----------+--------------------+---------------+---------------+----+----------------------------+-------+------+\n",
            "only showing top 20 rows\n",
            "\n"
          ]
        }
      ]
    },
    {
      "cell_type": "markdown",
      "source": [
        "wine.printSchema()\n"
      ],
      "metadata": {
        "id": "f8Fqri2uAmDX"
      }
    },
    {
      "cell_type": "code",
      "source": [
        "wine.columns\n"
      ],
      "metadata": {
        "colab": {
          "base_uri": "https://localhost:8080/"
        },
        "id": "gvnaohBpAsFh",
        "outputId": "894e5a36-57b5-46aa-9cde-824727e5398e"
      },
      "execution_count": 6,
      "outputs": [
        {
          "output_type": "execute_result",
          "data": {
            "text/plain": [
              "['alcohol',\n",
              " 'malic_acid',\n",
              " 'ash',\n",
              " 'alcalinity_of_ash',\n",
              " 'magnesium',\n",
              " 'total_phenols',\n",
              " 'flavanoids',\n",
              " 'nonflavanoid_phenols',\n",
              " 'proanthocyanins',\n",
              " 'color_intensity',\n",
              " 'hue',\n",
              " 'od280/od315_of_diluted_wines',\n",
              " 'proline',\n",
              " 'target']"
            ]
          },
          "metadata": {},
          "execution_count": 6
        }
      ]
    },
    {
      "cell_type": "code",
      "source": [
        "from pyspark.ml.feature import VectorAssembler\n",
        "featureassembler= VectorAssembler(inputCols=['alcohol',\n",
        " 'malic_acid',\n",
        " 'ash',\n",
        " 'alcalinity_of_ash',\n",
        " 'magnesium',\n",
        " 'total_phenols',\n",
        " 'flavanoids',\n",
        " 'nonflavanoid_phenols',\n",
        " 'proanthocyanins',\n",
        " 'color_intensity',\n",
        " 'hue',\n",
        " 'od280/od315_of_diluted_wines',\n",
        " 'proline'], outputCol='Features')\n",
        "\n",
        "\n",
        "output = featureassembler.transform(wine)\n",
        "\n"
      ],
      "metadata": {
        "id": "DdoR3Fo0AxPZ"
      },
      "execution_count": 9,
      "outputs": []
    },
    {
      "cell_type": "code",
      "source": [
        "\n",
        "output.show()\n"
      ],
      "metadata": {
        "colab": {
          "base_uri": "https://localhost:8080/"
        },
        "id": "2A2qVkcABDly",
        "outputId": "45bd7605-0cd2-44b1-a946-1cd5623eff16"
      },
      "execution_count": 10,
      "outputs": [
        {
          "output_type": "stream",
          "name": "stdout",
          "text": [
            "+-------+----------+----+-----------------+---------+-------------+----------+--------------------+---------------+---------------+----+----------------------------+-------+------+--------------------+\n",
            "|alcohol|malic_acid| ash|alcalinity_of_ash|magnesium|total_phenols|flavanoids|nonflavanoid_phenols|proanthocyanins|color_intensity| hue|od280/od315_of_diluted_wines|proline|target|            Features|\n",
            "+-------+----------+----+-----------------+---------+-------------+----------+--------------------+---------------+---------------+----+----------------------------+-------+------+--------------------+\n",
            "|  14.23|      1.71|2.43|             15.6|    127.0|          2.8|      3.06|                0.28|           2.29|           5.64|1.04|                        3.92| 1065.0|     0|[14.23,1.71,2.43,...|\n",
            "|   13.2|      1.78|2.14|             11.2|    100.0|         2.65|      2.76|                0.26|           1.28|           4.38|1.05|                         3.4| 1050.0|     0|[13.2,1.78,2.14,1...|\n",
            "|  13.16|      2.36|2.67|             18.6|    101.0|          2.8|      3.24|                 0.3|           2.81|           5.68|1.03|                        3.17| 1185.0|     0|[13.16,2.36,2.67,...|\n",
            "|  14.37|      1.95| 2.5|             16.8|    113.0|         3.85|      3.49|                0.24|           2.18|            7.8|0.86|                        3.45| 1480.0|     0|[14.37,1.95,2.5,1...|\n",
            "|  13.24|      2.59|2.87|             21.0|    118.0|          2.8|      2.69|                0.39|           1.82|           4.32|1.04|                        2.93|  735.0|     0|[13.24,2.59,2.87,...|\n",
            "|   14.2|      1.76|2.45|             15.2|    112.0|         3.27|      3.39|                0.34|           1.97|           6.75|1.05|                        2.85| 1450.0|     0|[14.2,1.76,2.45,1...|\n",
            "|  14.39|      1.87|2.45|             14.6|     96.0|          2.5|      2.52|                 0.3|           1.98|           5.25|1.02|                        3.58| 1290.0|     0|[14.39,1.87,2.45,...|\n",
            "|  14.06|      2.15|2.61|             17.6|    121.0|          2.6|      2.51|                0.31|           1.25|           5.05|1.06|                        3.58| 1295.0|     0|[14.06,2.15,2.61,...|\n",
            "|  14.83|      1.64|2.17|             14.0|     97.0|          2.8|      2.98|                0.29|           1.98|            5.2|1.08|                        2.85| 1045.0|     0|[14.83,1.64,2.17,...|\n",
            "|  13.86|      1.35|2.27|             16.0|     98.0|         2.98|      3.15|                0.22|           1.85|           7.22|1.01|                        3.55| 1045.0|     0|[13.86,1.35,2.27,...|\n",
            "|   14.1|      2.16| 2.3|             18.0|    105.0|         2.95|      3.32|                0.22|           2.38|           5.75|1.25|                        3.17| 1510.0|     0|[14.1,2.16,2.3,18...|\n",
            "|  14.12|      1.48|2.32|             16.8|     95.0|          2.2|      2.43|                0.26|           1.57|            5.0|1.17|                        2.82| 1280.0|     0|[14.12,1.48,2.32,...|\n",
            "|  13.75|      1.73|2.41|             16.0|     89.0|          2.6|      2.76|                0.29|           1.81|            5.6|1.15|                         2.9| 1320.0|     0|[13.75,1.73,2.41,...|\n",
            "|  14.75|      1.73|2.39|             11.4|     91.0|          3.1|      3.69|                0.43|           2.81|            5.4|1.25|                        2.73| 1150.0|     0|[14.75,1.73,2.39,...|\n",
            "|  14.38|      1.87|2.38|             12.0|    102.0|          3.3|      3.64|                0.29|           2.96|            7.5| 1.2|                         3.0| 1547.0|     0|[14.38,1.87,2.38,...|\n",
            "|  13.63|      1.81| 2.7|             17.2|    112.0|         2.85|      2.91|                 0.3|           1.46|            7.3|1.28|                        2.88| 1310.0|     0|[13.63,1.81,2.7,1...|\n",
            "|   14.3|      1.92|2.72|             20.0|    120.0|          2.8|      3.14|                0.33|           1.97|            6.2|1.07|                        2.65| 1280.0|     0|[14.3,1.92,2.72,2...|\n",
            "|  13.83|      1.57|2.62|             20.0|    115.0|         2.95|       3.4|                 0.4|           1.72|            6.6|1.13|                        2.57| 1130.0|     0|[13.83,1.57,2.62,...|\n",
            "|  14.19|      1.59|2.48|             16.5|    108.0|          3.3|      3.93|                0.32|           1.86|            8.7|1.23|                        2.82| 1680.0|     0|[14.19,1.59,2.48,...|\n",
            "|  13.64|       3.1|2.56|             15.2|    116.0|          2.7|      3.03|                0.17|           1.66|            5.1|0.96|                        3.36|  845.0|     0|[13.64,3.1,2.56,1...|\n",
            "+-------+----------+----+-----------------+---------+-------------+----------+--------------------+---------------+---------------+----+----------------------------+-------+------+--------------------+\n",
            "only showing top 20 rows\n",
            "\n"
          ]
        }
      ]
    },
    {
      "cell_type": "code",
      "source": [
        "\n",
        "modeldata=output.select('Features','target')"
      ],
      "metadata": {
        "id": "ApePhxh6BIvV"
      },
      "execution_count": 11,
      "outputs": []
    },
    {
      "cell_type": "code",
      "source": [
        "\n",
        "modeldata.show()"
      ],
      "metadata": {
        "colab": {
          "base_uri": "https://localhost:8080/"
        },
        "id": "h_GQ-JKYBOEF",
        "outputId": "36564959-2e00-4cba-e858-5c849be8abea"
      },
      "execution_count": 12,
      "outputs": [
        {
          "output_type": "stream",
          "name": "stdout",
          "text": [
            "+--------------------+------+\n",
            "|            Features|target|\n",
            "+--------------------+------+\n",
            "|[14.23,1.71,2.43,...|     0|\n",
            "|[13.2,1.78,2.14,1...|     0|\n",
            "|[13.16,2.36,2.67,...|     0|\n",
            "|[14.37,1.95,2.5,1...|     0|\n",
            "|[13.24,2.59,2.87,...|     0|\n",
            "|[14.2,1.76,2.45,1...|     0|\n",
            "|[14.39,1.87,2.45,...|     0|\n",
            "|[14.06,2.15,2.61,...|     0|\n",
            "|[14.83,1.64,2.17,...|     0|\n",
            "|[13.86,1.35,2.27,...|     0|\n",
            "|[14.1,2.16,2.3,18...|     0|\n",
            "|[14.12,1.48,2.32,...|     0|\n",
            "|[13.75,1.73,2.41,...|     0|\n",
            "|[14.75,1.73,2.39,...|     0|\n",
            "|[14.38,1.87,2.38,...|     0|\n",
            "|[13.63,1.81,2.7,1...|     0|\n",
            "|[14.3,1.92,2.72,2...|     0|\n",
            "|[13.83,1.57,2.62,...|     0|\n",
            "|[14.19,1.59,2.48,...|     0|\n",
            "|[13.64,3.1,2.56,1...|     0|\n",
            "+--------------------+------+\n",
            "only showing top 20 rows\n",
            "\n"
          ]
        }
      ]
    },
    {
      "cell_type": "code",
      "source": [
        "train_data,test_data=modeldata.randomSplit([0.8,0.2])\n"
      ],
      "metadata": {
        "id": "CYZGhjLFBQ81"
      },
      "execution_count": 13,
      "outputs": []
    },
    {
      "cell_type": "code",
      "source": [
        "train_data.show()\n"
      ],
      "metadata": {
        "colab": {
          "base_uri": "https://localhost:8080/"
        },
        "id": "frvurdslBTjW",
        "outputId": "b1f7750c-ff4c-4729-98d0-d7357b88422d"
      },
      "execution_count": 14,
      "outputs": [
        {
          "output_type": "stream",
          "name": "stdout",
          "text": [
            "+--------------------+------+\n",
            "|            Features|target|\n",
            "+--------------------+------+\n",
            "|[11.64,2.06,2.46,...|     1|\n",
            "|[11.65,1.67,2.62,...|     1|\n",
            "|[11.66,1.88,1.92,...|     1|\n",
            "|[11.84,2.89,2.23,...|     1|\n",
            "|[12.0,0.92,2.0,19...|     1|\n",
            "|[12.08,1.13,2.51,...|     1|\n",
            "|[12.16,1.61,2.31,...|     1|\n",
            "|[12.17,1.45,2.53,...|     1|\n",
            "|[12.21,1.19,1.75,...|     1|\n",
            "|[12.29,1.61,2.21,...|     1|\n",
            "|[12.33,1.1,2.28,1...|     1|\n",
            "|[12.37,0.94,1.36,...|     1|\n",
            "|[12.37,1.17,1.92,...|     1|\n",
            "|[12.37,1.21,2.56,...|     1|\n",
            "|[12.64,1.36,2.02,...|     1|\n",
            "|[12.7,3.87,2.4,23...|     1|\n",
            "|[12.72,1.81,2.2,1...|     1|\n",
            "|[12.85,1.6,2.52,1...|     0|\n",
            "|[12.99,1.67,2.6,3...|     1|\n",
            "|[13.03,0.9,1.71,1...|     1|\n",
            "+--------------------+------+\n",
            "only showing top 20 rows\n",
            "\n"
          ]
        }
      ]
    },
    {
      "cell_type": "code",
      "source": [
        "from pyspark.ml.classification import RandomForestClassifier\n",
        "\n",
        "\n",
        "rf = RandomForestClassifier(featuresCol='Features', labelCol='target')\n",
        "\n",
        "\n",
        "rf = rf.fit(train_data)\n",
        "\n",
        "\n",
        "# prediction\n",
        "y_pred = rf.transform(test_data)\n",
        "\n",
        "\n",
        "y_pred.show()\n"
      ],
      "metadata": {
        "colab": {
          "base_uri": "https://localhost:8080/"
        },
        "id": "iVF3zn79BYeF",
        "outputId": "89b0efcf-0a19-4083-c0f8-1581dc277939"
      },
      "execution_count": 15,
      "outputs": [
        {
          "output_type": "stream",
          "name": "stdout",
          "text": [
            "+--------------------+------+--------------------+--------------------+----------+\n",
            "|            Features|target|       rawPrediction|         probability|prediction|\n",
            "+--------------------+------+--------------------+--------------------+----------+\n",
            "|[11.84,0.89,2.58,...|     1|  [0.125,18.875,1.0]|[0.00625,0.94375,...|       1.0|\n",
            "|[11.96,1.09,2.3,2...|     1|   [9.125,9.875,1.0]|[0.45625,0.49375,...|       1.0|\n",
            "|[12.33,0.99,1.95,...|     1|      [5.0,15.0,0.0]|     [0.25,0.75,0.0]|       1.0|\n",
            "|[12.37,1.13,2.16,...|     1|  [0.125,19.875,0.0]|[0.00625,0.99375,...|       1.0|\n",
            "|[12.67,0.98,2.24,...|     1|      [0.0,20.0,0.0]|       [0.0,1.0,0.0]|       1.0|\n",
            "|[12.93,3.8,2.65,1...|     0|[8.10119047619047...|[0.40505952380952...|       1.0|\n",
            "|[13.24,2.59,2.87,...|     0|[16.4761904761904...|[0.82380952380952...|       0.0|\n",
            "|[13.29,1.97,2.68,...|     0|[19.9761904761904...|[0.99880952380952...|       0.0|\n",
            "|[13.34,0.94,2.36,...|     1|      [4.0,14.0,2.0]|       [0.2,0.7,0.1]|       1.0|\n",
            "|[13.5,1.81,2.61,2...|     0|  [16.125,3.875,0.0]|[0.80625,0.19375,...|       0.0|\n",
            "|[13.56,1.71,2.31,...|     0|[16.9761904761904...|[0.84880952380952...|       0.0|\n",
            "|[14.06,2.15,2.61,...|     0|[19.9761904761904...|[0.99880952380952...|       0.0|\n",
            "|[14.21,4.04,2.44,...|     0|[16.9761904761904...|[0.84880952380952...|       0.0|\n",
            "|[14.22,1.7,2.3,16...|     0|[19.9761904761904...|[0.99880952380952...|       0.0|\n",
            "|[14.23,1.71,2.43,...|     0|[18.9761904761904...|[0.94880952380952...|       0.0|\n",
            "|[14.38,1.87,2.38,...|     0|[19.9761904761904...|[0.99880952380952...|       0.0|\n",
            "|[11.46,3.74,1.82,...|     1|  [1.125,17.875,1.0]|[0.05625,0.89375,...|       1.0|\n",
            "|[11.62,1.99,2.28,...|     1|  [0.125,19.875,0.0]|[0.00625,0.99375,...|       1.0|\n",
            "|[11.81,2.12,2.74,...|     1|      [1.0,18.0,1.0]|     [0.05,0.9,0.05]|       1.0|\n",
            "|[11.82,1.72,1.88,...|     1|      [0.0,20.0,0.0]|       [0.0,1.0,0.0]|       1.0|\n",
            "+--------------------+------+--------------------+--------------------+----------+\n",
            "only showing top 20 rows\n",
            "\n"
          ]
        }
      ]
    },
    {
      "cell_type": "code",
      "source": [
        "# confusion matrix\n",
        "y_pred.groupBy('target', 'prediction').count().show()"
      ],
      "metadata": {
        "colab": {
          "base_uri": "https://localhost:8080/"
        },
        "id": "Dzmx9f1OBjfH",
        "outputId": "b22e374a-aa44-40e0-c2ed-6ff789ef573d"
      },
      "execution_count": 16,
      "outputs": [
        {
          "output_type": "stream",
          "name": "stdout",
          "text": [
            "+------+----------+-----+\n",
            "|target|prediction|count|\n",
            "+------+----------+-----+\n",
            "|     0|       1.0|    1|\n",
            "|     0|       0.0|    9|\n",
            "|     1|       1.0|   13|\n",
            "|     2|       2.0|    7|\n",
            "+------+----------+-----+\n",
            "\n"
          ]
        }
      ]
    },
    {
      "cell_type": "code",
      "source": [
        "\n",
        "from sklearn.metrics import confusion_matrix\n",
        "pred=y_pred.select(\"prediction\").collect()\n",
        "orig=y_pred.select(\"target\").collect()\n",
        "print(confusion_matrix(orig, pred))"
      ],
      "metadata": {
        "colab": {
          "base_uri": "https://localhost:8080/"
        },
        "id": "hzXhSUJRBjdb",
        "outputId": "f0535df2-3483-4fab-accc-0e0c8a10be58"
      },
      "execution_count": 17,
      "outputs": [
        {
          "output_type": "stream",
          "name": "stdout",
          "text": [
            "[[ 9  1  0]\n",
            " [ 0 13  0]\n",
            " [ 0  0  7]]\n"
          ]
        }
      ]
    },
    {
      "cell_type": "code",
      "source": [
        "from pyspark.ml.evaluation import MulticlassClassificationEvaluator\n",
        "\n",
        "\n",
        "evaluator = MulticlassClassificationEvaluator(\n",
        "    labelCol='target', predictionCol='prediction')\n",
        "\n",
        "\n",
        "accuracy = evaluator.evaluate(y_pred)\n",
        "accuracy\n",
        ""
      ],
      "metadata": {
        "colab": {
          "base_uri": "https://localhost:8080/"
        },
        "id": "v8miqnccBpyn",
        "outputId": "9298a89e-05fa-4dfb-b5a9-00897354c73d"
      },
      "execution_count": 18,
      "outputs": [
        {
          "output_type": "execute_result",
          "data": {
            "text/plain": [
              "0.9664067576348279"
            ]
          },
          "metadata": {},
          "execution_count": 18
        }
      ]
    },
    {
      "cell_type": "code",
      "source": [
        "spark.stop()"
      ],
      "metadata": {
        "id": "uV0lxXoOBt9n"
      },
      "execution_count": 19,
      "outputs": []
    }
  ]
}